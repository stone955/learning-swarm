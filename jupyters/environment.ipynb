{
 "cells": [
  {
   "cell_type": "code",
   "execution_count": 1,
   "metadata": {},
   "outputs": [],
   "source": [
    "# !pip install git+https://github.com/openai/swarm.git\n",
    "# !pip install python-dotenv"
   ]
  },
  {
   "cell_type": "code",
   "execution_count": null,
   "metadata": {},
   "outputs": [],
   "source": [
    "# 初始化环境变量\n",
    "import os\n",
    "from dotenv import load_dotenv, find_dotenv\n",
    "from openai import OpenAI\n",
    "from swarm import Swarm, Agent\n",
    "\n",
    "# 读取本地/项目的环境变量。\n",
    "# find_dotenv()寻找并定位.env文件的路径\n",
    "# load_dotenv()读取该.env文件，并将其中的环境变量加载到当前的运行环境中\n",
    "_ = load_dotenv(find_dotenv())\n",
    "\n",
    "\n",
    "def get_openai_api_key() -> str:\n",
    "    return os.environ.get(\"OPENAI_API_KEY\")\n",
    "\n",
    "\n",
    "def get_openai_api_base() -> str:\n",
    "    return os.environ.get(\"OPENAI_API_BASE\")\n",
    "\n",
    "\n",
    "def get_openai_model_name() -> str:\n",
    "    return os.environ.get(\"OPENAI_MODEL_NAME\")\n",
    "\n",
    "\n",
    "print(f\"openai_api_key: {get_openai_api_key()}\")\n",
    "print(f\"openai_api_base: {get_openai_api_base()}\")\n",
    "print(f\"openai_model_name: {get_openai_model_name()}\")"
   ]
  },
  {
   "cell_type": "code",
   "execution_count": null,
   "metadata": {},
   "outputs": [],
   "source": [
    "# 实例化客户端\n",
    "client = OpenAI(api_key=get_openai_api_key(), base_url=get_openai_api_base())"
   ]
  }
 ],
 "metadata": {
  "kernelspec": {
   "display_name": "learning-swarm",
   "language": "python",
   "name": "python3"
  },
  "language_info": {
   "codemirror_mode": {
    "name": "ipython",
    "version": 3
   },
   "file_extension": ".py",
   "mimetype": "text/x-python",
   "name": "python",
   "nbconvert_exporter": "python",
   "pygments_lexer": "ipython3",
   "version": "3.10.16"
  }
 },
 "nbformat": 4,
 "nbformat_minor": 2
}
