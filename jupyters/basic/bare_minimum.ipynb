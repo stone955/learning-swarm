{
 "cells": [
  {
   "cell_type": "code",
   "execution_count": 12,
   "metadata": {},
   "outputs": [
    {
     "name": "stdout",
     "output_type": "stream",
     "text": [
      "openai_api_key: sk-17b97551ccfe4f459ac09ece6d9b6175\n",
      "openai_api_base: https://dashscope.aliyuncs.com/compatible-mode/v1\n",
      "openai_model_name: qwen2.5-72b-instruct\n"
     ]
    }
   ],
   "source": [
    "# 初始化环境变量\n",
    "import os\n",
    "from dotenv import load_dotenv, find_dotenv\n",
    "from openai import OpenAI\n",
    "\n",
    "# 读取本地/项目的环境变量。\n",
    "# find_dotenv()寻找并定位.env文件的路径\n",
    "# load_dotenv()读取该.env文件，并将其中的环境变量加载到当前的运行环境中\n",
    "_ = load_dotenv(find_dotenv())\n",
    "\n",
    "\n",
    "def get_openai_api_key() -> str:\n",
    "    return os.environ.get(\"OPENAI_API_KEY\")\n",
    "\n",
    "\n",
    "def get_openai_api_base() -> str:\n",
    "    return os.environ.get(\"OPENAI_API_BASE\")\n",
    "\n",
    "\n",
    "def get_openai_model_name() -> str:\n",
    "    return os.environ.get(\"OPENAI_MODEL_NAME\")\n",
    "\n",
    "\n",
    "print(f\"openai_api_key: {get_openai_api_key()}\")\n",
    "print(f\"openai_api_base: {get_openai_api_base()}\")\n",
    "print(f\"openai_model_name: {get_openai_model_name()}\")\n",
    "\n",
    "# 实例化客户端\n",
    "client = OpenAI(api_key=get_openai_api_key(), base_url=get_openai_api_base())"
   ]
  },
  {
   "cell_type": "code",
   "execution_count": null,
   "metadata": {},
   "outputs": [
    {
     "name": "stdout",
     "output_type": "stream",
     "text": [
      "\u001b[97m[\u001b[90m2024-12-20 13:52:16\u001b[97m]\u001b[90m Getting chat completion for...: [{'role': 'system', 'content': 'You are a helpful assistant.'}, {'role': 'user', 'content': 'What is the capital of France?'}]\u001b[0m\n",
      "\u001b[97m[\u001b[90m2024-12-20 13:52:17\u001b[97m]\u001b[90m Received completion: ChatCompletionMessage(content='The capital of France is Paris.', refusal=None, role='assistant', audio=None, function_call=None, tool_calls=None)\u001b[0m\n",
      "\u001b[97m[\u001b[90m2024-12-20 13:52:17\u001b[97m]\u001b[90m Ending turn.\u001b[0m\n",
      "{\"messages\":[{\"content\":\"The capital of France is Paris.\",\"refusal\":null,\"role\":\"assistant\",\"audio\":null,\"function_call\":null,\"tool_calls\":null,\"sender\":\"Swarm Agent\"}],\"agent\":{\"name\":\"Swarm Agent\",\"model\":\"qwen2.5-72b-instruct\",\"instructions\":\"You are a helpful assistant.\",\"functions\":[],\"tool_choice\":null,\"parallel_tool_calls\":true},\"context_variables\":{}}\n"
     ]
    }
   ],
   "source": [
    "# 创建一个Swarm对象\n",
    "from swarm import Swarm, Agent\n",
    "\n",
    "swarm_client = Swarm(client=client)\n",
    "\n",
    "agent = Agent(\n",
    "    name=\"Swarm Agent\",\n",
    "    instructions=\"You are a helpful assistant.\",\n",
    "    model=get_openai_model_name(),\n",
    ")\n",
    "\n",
    "messages = [{\"role\": \"user\", \"content\": \"What is the capital of France?\"}]\n",
    "response = swarm_client.run(agent=agent, messages=messages, debug=True)\n",
    "\n",
    "print(response.model_dump_json())\n",
    "\n",
    "# JSON Output:\n",
    "# {\n",
    "# \t\"messages\": [{\n",
    "# \t\t\"content\": \"The capital of France is Paris.\",\n",
    "# \t\t\"refusal\": null,\n",
    "# \t\t\"role\": \"assistant\",\n",
    "# \t\t\"audio\": null,\n",
    "# \t\t\"function_call\": null,\n",
    "# \t\t\"tool_calls\": null,\n",
    "# \t\t\"sender\": \"Swarm Agent\"\n",
    "# \t}],\n",
    "# \t\"agent\": {\n",
    "# \t\t\"name\": \"Swarm Agent\",\n",
    "# \t\t\"model\": \"qwen2.5-72b-instruct\",\n",
    "# \t\t\"instructions\": \"You are a helpful assistant.\",\n",
    "# \t\t\"functions\": [],\n",
    "# \t\t\"tool_choice\": null,\n",
    "# \t\t\"parallel_tool_calls\": true\n",
    "# \t},\n",
    "# \t\"context_variables\": {}\n",
    "# }"
   ]
  }
 ],
 "metadata": {
  "kernelspec": {
   "display_name": "learning-swarm",
   "language": "python",
   "name": "python3"
  },
  "language_info": {
   "codemirror_mode": {
    "name": "ipython",
    "version": 3
   },
   "file_extension": ".py",
   "mimetype": "text/x-python",
   "name": "python",
   "nbconvert_exporter": "python",
   "pygments_lexer": "ipython3",
   "version": "3.10.16"
  }
 },
 "nbformat": 4,
 "nbformat_minor": 2
}
