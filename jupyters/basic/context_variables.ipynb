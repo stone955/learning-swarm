{
 "cells": [
  {
   "cell_type": "code",
   "execution_count": 13,
   "metadata": {},
   "outputs": [
    {
     "name": "stdout",
     "output_type": "stream",
     "text": [
      "openai_api_key: sk-17b97551ccfe4f459ac09ece6d9b6175\n",
      "openai_api_base: https://dashscope.aliyuncs.com/compatible-mode/v1\n",
      "openai_model_name: qwen2.5-72b-instruct\n"
     ]
    }
   ],
   "source": [
    "# 初始化环境变量\n",
    "import os\n",
    "from dotenv import load_dotenv, find_dotenv\n",
    "\n",
    "# 读取本地/项目的环境变量。\n",
    "# find_dotenv()寻找并定位.env文件的路径\n",
    "# load_dotenv()读取该.env文件，并将其中的环境变量加载到当前的运行环境中\n",
    "_ = load_dotenv(find_dotenv())\n",
    "\n",
    "\n",
    "def get_openai_api_key() -> str:\n",
    "    return os.environ.get(\"OPENAI_API_KEY\")\n",
    "\n",
    "\n",
    "def get_openai_api_base() -> str:\n",
    "    return os.environ.get(\"OPENAI_API_BASE\")\n",
    "\n",
    "\n",
    "def get_openai_model_name() -> str:\n",
    "    return os.environ.get(\"OPENAI_MODEL_NAME\")\n",
    "\n",
    "\n",
    "print(f\"openai_api_key: {get_openai_api_key()}\")\n",
    "print(f\"openai_api_base: {get_openai_api_base()}\")\n",
    "print(f\"openai_model_name: {get_openai_model_name()}\")"
   ]
  },
  {
   "cell_type": "code",
   "execution_count": 14,
   "metadata": {},
   "outputs": [
    {
     "name": "stdout",
     "output_type": "stream",
     "text": [
      "\u001b[97m[\u001b[90m2024-12-23 14:33:01\u001b[97m]\u001b[90m Getting chat completion for...: [{'role': 'system', 'content': 'You are a helpful agent. Greet the user by name (James).'}, {'role': 'user', 'content': 'Hi!'}]\u001b[0m\n",
      "\u001b[97m[\u001b[90m2024-12-23 14:33:02\u001b[97m]\u001b[90m Received completion: ChatCompletionMessage(content='Hello James! How can I assist you today?', refusal=None, role='assistant', audio=None, function_call=None, tool_calls=None)\u001b[0m\n",
      "\u001b[97m[\u001b[90m2024-12-23 14:33:02\u001b[97m]\u001b[90m Ending turn.\u001b[0m\n",
      "Hello James! How can I assist you today?\n",
      "Account Details: James 123\n",
      "Here are your account details, James:\n",
      "\n",
      "Unfortunately, the specific details didn't come through in the function's response. If you could provide me with more information or if there's another function that can fetch detailed account information, I'd be happy to assist you further. Let me know how you would like to proceed!\n"
     ]
    }
   ],
   "source": [
    "# 创建一个Swarm对象\n",
    "from openai import OpenAI\n",
    "from swarm import Swarm, Agent\n",
    "\n",
    "# 实例化客户端\n",
    "swarm_client = Swarm(\n",
    "    client=OpenAI(api_key=get_openai_api_key(), base_url=get_openai_api_base())\n",
    ")\n",
    "\n",
    "\n",
    "def instructions(context_variables: dict):\n",
    "    name = context_variables.get(\"name\", \"User\")\n",
    "    return f\"You are a helpful agent. Greet the user by name ({name}).\"\n",
    "\n",
    "\n",
    "def print_account_details(context_variables: dict):\n",
    "    user_id = context_variables.get(\"user_id\", None)\n",
    "    name = context_variables.get(\"name\", None)\n",
    "    print(f\"Account Details: {name} {user_id}\")\n",
    "    return \"Success\"\n",
    "\n",
    "\n",
    "account_agent = Agent(\n",
    "    name=\"Account Agent\",\n",
    "    model=get_openai_model_name(),\n",
    "    instructions=instructions,\n",
    "    functions=[print_account_details],\n",
    ")\n",
    "\n",
    "context_variables = {\"name\": \"James\", \"user_id\": 123}\n",
    "\n",
    "response = swarm_client.run(\n",
    "    messages=[{\"role\": \"user\", \"content\": \"Hi!\"}],\n",
    "    agent=account_agent,\n",
    "    context_variables=context_variables,\n",
    "    debug=True,\n",
    ")\n",
    "\n",
    "print(response.messages[-1][\"content\"])\n",
    "\n",
    "response = swarm_client.run(\n",
    "    messages=[{\"role\": \"user\", \"content\": \"Print my account details!\"}],\n",
    "    agent=account_agent,\n",
    "    context_variables=context_variables,\n",
    ")\n",
    "print(response.messages[-1][\"content\"])"
   ]
  }
 ],
 "metadata": {
  "kernelspec": {
   "display_name": "learning-swarm",
   "language": "python",
   "name": "python3"
  },
  "language_info": {
   "codemirror_mode": {
    "name": "ipython",
    "version": 3
   },
   "file_extension": ".py",
   "mimetype": "text/x-python",
   "name": "python",
   "nbconvert_exporter": "python",
   "pygments_lexer": "ipython3",
   "version": "3.10.16"
  }
 },
 "nbformat": 4,
 "nbformat_minor": 2
}
