{
 "cells": [
  {
   "cell_type": "code",
   "execution_count": 1,
   "metadata": {},
   "outputs": [],
   "source": [
    "# !pip install git+https://github.com/openai/swarm.git\n",
    "# !pip install python-dotenv"
   ]
  },
  {
   "cell_type": "code",
   "execution_count": null,
   "metadata": {},
   "outputs": [
    {
     "name": "stdout",
     "output_type": "stream",
     "text": [
      "openai_api_key: sk-17b97551ccfe4f459ac09ece6d9b6175\n",
      "openai_api_base: https://dashscope.aliyuncs.com/compatible-mode/v1\n",
      "openai_model_name: qwen2.5-72b-instruct\n"
     ]
    }
   ],
   "source": [
    "# 初始化环境变量\n",
    "import os\n",
    "from dotenv import load_dotenv, find_dotenv\n",
    "from openai import OpenAI\n",
    "\n",
    "# 读取本地/项目的环境变量。\n",
    "# find_dotenv()寻找并定位.env文件的路径\n",
    "# load_dotenv()读取该.env文件，并将其中的环境变量加载到当前的运行环境中\n",
    "_ = load_dotenv(find_dotenv())\n",
    "\n",
    "\n",
    "def get_openai_api_key() -> str:\n",
    "    return os.environ.get(\"OPENAI_API_KEY\")\n",
    "\n",
    "\n",
    "def get_openai_api_base() -> str:\n",
    "    return os.environ.get(\"OPENAI_API_BASE\")\n",
    "\n",
    "\n",
    "def get_openai_model_name() -> str:\n",
    "    return os.environ.get(\"OPENAI_MODEL_NAME\")\n",
    "\n",
    "\n",
    "print(f\"openai_api_key: {get_openai_api_key()}\")\n",
    "print(f\"openai_api_base: {get_openai_api_base()}\")\n",
    "print(f\"openai_model_name: {get_openai_model_name()}\")"
   ]
  },
  {
   "cell_type": "code",
   "execution_count": 3,
   "metadata": {},
   "outputs": [
    {
     "name": "stdout",
     "output_type": "stream",
     "text": [
      "你好！虽然我们可能有一段时间没交流了，但我一直在这里，准备随时帮助你。有什么新鲜事想分享吗？或者需要我帮忙的？\n"
     ]
    }
   ],
   "source": [
    "# 实例化客户端\n",
    "client = OpenAI(api_key=get_openai_api_key(), base_url=get_openai_api_base())\n",
    "\n",
    "# 调用模型\n",
    "response = client.chat.completions.create(\n",
    "    model=get_openai_model_name(),\n",
    "    messages=[\n",
    "        {\"role\": \"user\", \"content\": \"你好，好久不见!\"}\n",
    "    ]\n",
    ")\n",
    "\n",
    "# 输出生成的响应内容\n",
    "print(response.choices[0].message.content)"
   ]
  },
  {
   "cell_type": "code",
   "execution_count": 4,
   "metadata": {},
   "outputs": [
    {
     "name": "stdout",
     "output_type": "stream",
     "text": [
      "\u001b[0;31mInit signature:\u001b[0m \u001b[0mSwarm\u001b[0m\u001b[0;34m(\u001b[0m\u001b[0mclient\u001b[0m\u001b[0;34m=\u001b[0m\u001b[0;32mNone\u001b[0m\u001b[0;34m)\u001b[0m\u001b[0;34m\u001b[0m\u001b[0;34m\u001b[0m\u001b[0m\n",
      "\u001b[0;31mDocstring:\u001b[0m      <no docstring>\n",
      "\u001b[0;31mFile:\u001b[0m           ~/miniconda3/envs/learning-swarm/lib/python3.10/site-packages/swarm/core.py\n",
      "\u001b[0;31mType:\u001b[0m           type\n",
      "\u001b[0;31mSubclasses:\u001b[0m     "
     ]
    }
   ],
   "source": [
    "Swarm?"
   ]
  },
  {
   "cell_type": "code",
   "execution_count": 8,
   "metadata": {},
   "outputs": [
    {
     "name": "stdout",
     "output_type": "stream",
     "text": [
      "\u001b[97m[\u001b[90m2024-12-20 12:42:20\u001b[97m]\u001b[90m Getting chat completion for...: [{'role': 'system', 'content': 'You only speak English.'}, {'role': 'user', 'content': 'Hola. ¿Como estás?'}]\u001b[0m\n",
      "\u001b[97m[\u001b[90m2024-12-20 12:42:21\u001b[97m]\u001b[90m Received completion: ChatCompletionMessage(content='', refusal=None, role='assistant', audio=None, function_call=None, tool_calls=[ChatCompletionMessageToolCall(id='call_b7fa0038f50f43eb90a8a8', function=Function(arguments='{}', name='transfer_to_spanish_agent'), type='function', index=0)])\u001b[0m\n",
      "\u001b[97m[\u001b[90m2024-12-20 12:42:21\u001b[97m]\u001b[90m Processing tool call: transfer_to_spanish_agent with arguments {}\u001b[0m\n",
      "\u001b[97m[\u001b[90m2024-12-20 12:42:21\u001b[97m]\u001b[90m Getting chat completion for...: [{'role': 'system', 'content': 'You only speak Spanish.'}, {'role': 'user', 'content': 'Hola. ¿Como estás?'}, {'content': '', 'refusal': None, 'role': 'assistant', 'audio': None, 'function_call': None, 'tool_calls': [{'id': 'call_b7fa0038f50f43eb90a8a8', 'function': {'arguments': '{}', 'name': 'transfer_to_spanish_agent'}, 'type': 'function', 'index': 0}], 'sender': 'English Agent'}, {'role': 'tool', 'tool_call_id': 'call_b7fa0038f50f43eb90a8a8', 'tool_name': 'transfer_to_spanish_agent', 'content': '{\"assistant\": \"Spanish Agent\"}'}]\u001b[0m\n",
      "\u001b[97m[\u001b[90m2024-12-20 12:42:23\u001b[97m]\u001b[90m Received completion: ChatCompletionMessage(content='Hola, estoy bien, gracias por preguntar. ¿Cómo estás tú? ¿En qué puedo ayudarte hoy?', refusal=None, role='assistant', audio=None, function_call=None, tool_calls=None)\u001b[0m\n",
      "\u001b[97m[\u001b[90m2024-12-20 12:42:23\u001b[97m]\u001b[90m Ending turn.\u001b[0m\n",
      "Hola, estoy bien, gracias por preguntar. ¿Cómo estás tú? ¿En qué puedo ayudarte hoy?\n"
     ]
    }
   ],
   "source": [
    "# 多智能体简单实例\n",
    "\n",
    "from swarm import Swarm, Agent\n",
    "\n",
    "swarm_client = Swarm(client=client)\n",
    "\n",
    "english_agent = Agent(\n",
    "    name=\"English Agent\",\n",
    "    instructions=\"You only speak English.\",\n",
    "    model=get_openai_model_name(),\n",
    ")\n",
    "\n",
    "spanish_agent = Agent(\n",
    "    name=\"Spanish Agent\",\n",
    "    instructions=\"You only speak Spanish.\",\n",
    "    model=get_openai_model_name(),\n",
    ")\n",
    "\n",
    "\n",
    "def transfer_to_spanish_agent():\n",
    "    \"\"\"Transfer spanish speaking users immediately.\"\"\"\n",
    "    return spanish_agent\n",
    "\n",
    "\n",
    "english_agent.functions.append(transfer_to_spanish_agent)\n",
    "\n",
    "messages = [{\"role\": \"user\", \"content\": \"Hola. ¿Como estás?\"}]\n",
    "response = swarm_client.run(agent=english_agent, messages=messages, debug=True)\n",
    "\n",
    "print(response.messages[-1][\"content\"])"
   ]
  }
 ],
 "metadata": {
  "kernelspec": {
   "display_name": "learning-swarm",
   "language": "python",
   "name": "python3"
  },
  "language_info": {
   "codemirror_mode": {
    "name": "ipython",
    "version": 3
   },
   "file_extension": ".py",
   "mimetype": "text/x-python",
   "name": "python",
   "nbconvert_exporter": "python",
   "pygments_lexer": "ipython3",
   "version": "3.10.16"
  }
 },
 "nbformat": 4,
 "nbformat_minor": 2
}
