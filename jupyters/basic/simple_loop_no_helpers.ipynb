{
 "cells": [
  {
   "cell_type": "code",
   "execution_count": 1,
   "metadata": {},
   "outputs": [
    {
     "name": "stdout",
     "output_type": "stream",
     "text": [
      "openai_api_key: cannot be empty\n",
      "openai_api_base: http://10.191.193.3:11434/v1\n",
      "openai_model_name: qwen2.5:14b\n"
     ]
    }
   ],
   "source": [
    "# 初始化环境变量\n",
    "import os\n",
    "from dotenv import load_dotenv, find_dotenv\n",
    "\n",
    "# 读取本地/项目的环境变量。\n",
    "# find_dotenv()寻找并定位.env文件的路径\n",
    "# load_dotenv()读取该.env文件，并将其中的环境变量加载到当前的运行环境中\n",
    "_ = load_dotenv(find_dotenv())\n",
    "\n",
    "\n",
    "def get_openai_api_key() -> str:\n",
    "    return os.environ.get(\"OPENAI_API_KEY\")\n",
    "\n",
    "\n",
    "def get_openai_api_base() -> str:\n",
    "    return os.environ.get(\"OPENAI_API_BASE\")\n",
    "\n",
    "\n",
    "def get_openai_model_name() -> str:\n",
    "    return os.environ.get(\"OPENAI_MODEL_NAME\")\n",
    "\n",
    "\n",
    "print(f\"openai_api_key: {get_openai_api_key()}\")\n",
    "print(f\"openai_api_base: {get_openai_api_base()}\")\n",
    "print(f\"openai_model_name: {get_openai_model_name()}\")"
   ]
  },
  {
   "cell_type": "code",
   "execution_count": 3,
   "metadata": {},
   "outputs": [
    {
     "name": "stdout",
     "output_type": "stream",
     "text": [
      "\u001b[97m[\u001b[90m2024-12-23 15:16:28\u001b[97m]\u001b[90m Getting chat completion for...: [{'role': 'system', 'content': 'You are a helpful assistant.'}, {'role': 'user', 'content': 'hi'}]\u001b[0m\n",
      "\u001b[97m[\u001b[90m2024-12-23 15:16:41\u001b[97m]\u001b[90m Received completion: ChatCompletionMessage(content='Hello! How can I assist you today? Feel free to ask me any questions or let me know if you need help with something specific.', refusal=None, role='assistant', audio=None, function_call=None, tool_calls=None)\u001b[0m\n",
      "\u001b[97m[\u001b[90m2024-12-23 15:16:41\u001b[97m]\u001b[90m Ending turn.\u001b[0m\n",
      "Agent: Hello! How can I assist you today? Feel free to ask me any questions or let me know if you need help with something specific.\n",
      "\u001b[97m[\u001b[90m2024-12-23 15:19:24\u001b[97m]\u001b[90m Getting chat completion for...: [{'role': 'system', 'content': 'You are a helpful assistant.'}, {'content': 'Hello! How can I assist you today? Feel free to ask me any questions or let me know if you need help with something specific.', 'refusal': None, 'role': 'assistant', 'audio': None, 'function_call': None, 'tool_calls': None, 'sender': 'Agent'}, {'role': 'user', 'content': 'how are you?'}]\u001b[0m\n",
      "\u001b[97m[\u001b[90m2024-12-23 15:19:35\u001b[97m]\u001b[90m Received completion: ChatCompletionMessage(content=\"I'm just a computer program, so I don't have feelings, but thank you for asking! How can I help you today? Is there anything specific you would like to discuss or learn about?\", refusal=None, role='assistant', audio=None, function_call=None, tool_calls=None)\u001b[0m\n",
      "\u001b[97m[\u001b[90m2024-12-23 15:19:35\u001b[97m]\u001b[90m Ending turn.\u001b[0m\n",
      "Agent: I'm just a computer program, so I don't have feelings, but thank you for asking! How can I help you today? Is there anything specific you would like to discuss or learn about?\n"
     ]
    }
   ],
   "source": [
    "# 创建一个Swarm对象\n",
    "from openai import OpenAI\n",
    "from swarm import Swarm, Agent\n",
    "\n",
    "# 实例化客户端\n",
    "swarm_client = Swarm(\n",
    "    client=OpenAI(api_key=get_openai_api_key(), base_url=get_openai_api_base())\n",
    ")\n",
    "\n",
    "\n",
    "def pretty_print_messages(messages):\n",
    "    for message in messages:\n",
    "        if message[\"content\"] is None:\n",
    "            continue\n",
    "        print(f\"{message['sender']}: {message['content']}\")\n",
    "\n",
    "\n",
    "agent = Agent(\n",
    "    name=\"Agent\",\n",
    "    model=get_openai_model_name(),\n",
    "    instructions=\"You are a helpful assistant.\",\n",
    ")\n",
    "\n",
    "messages = []\n",
    "active_agent = agent\n",
    "\n",
    "while True:\n",
    "    user_input = input(\"> \")\n",
    "    if user_input == \"exit\":\n",
    "        break\n",
    "    messages.append({\"role\": \"user\", \"content\": user_input})\n",
    "    response = swarm_client.run(\n",
    "        agent=active_agent,\n",
    "        messages=messages,\n",
    "        debug=True,\n",
    "    )\n",
    "\n",
    "    messages = response.messages\n",
    "    active_agent = response.agent\n",
    "    pretty_print_messages(messages)"
   ]
  }
 ],
 "metadata": {
  "kernelspec": {
   "display_name": "learning-swarm",
   "language": "python",
   "name": "python3"
  },
  "language_info": {
   "codemirror_mode": {
    "name": "ipython",
    "version": 3
   },
   "file_extension": ".py",
   "mimetype": "text/x-python",
   "name": "python",
   "nbconvert_exporter": "python",
   "pygments_lexer": "ipython3",
   "version": "3.10.16"
  }
 },
 "nbformat": 4,
 "nbformat_minor": 2
}
