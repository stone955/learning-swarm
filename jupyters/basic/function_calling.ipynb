{
 "cells": [
  {
   "cell_type": "code",
   "execution_count": 1,
   "metadata": {},
   "outputs": [
    {
     "name": "stdout",
     "output_type": "stream",
     "text": [
      "openai_api_key: cannot be empty\n",
      "openai_api_base: http://10.191.193.3:11434/v1\n",
      "openai_model_name: qwen2.5:14b\n"
     ]
    }
   ],
   "source": [
    "# 初始化环境变量\n",
    "import os\n",
    "from dotenv import load_dotenv, find_dotenv\n",
    "\n",
    "# 读取本地/项目的环境变量。\n",
    "# find_dotenv()寻找并定位.env文件的路径\n",
    "# load_dotenv()读取该.env文件，并将其中的环境变量加载到当前的运行环境中\n",
    "_ = load_dotenv(find_dotenv())\n",
    "\n",
    "\n",
    "def get_openai_api_key() -> str:\n",
    "    return os.environ.get(\"OPENAI_API_KEY\")\n",
    "\n",
    "\n",
    "def get_openai_api_base() -> str:\n",
    "    return os.environ.get(\"OPENAI_API_BASE\")\n",
    "\n",
    "\n",
    "def get_openai_model_name() -> str:\n",
    "    return os.environ.get(\"OPENAI_MODEL_NAME\")\n",
    "\n",
    "\n",
    "print(f\"openai_api_key: {get_openai_api_key()}\")\n",
    "print(f\"openai_api_base: {get_openai_api_base()}\")\n",
    "print(f\"openai_model_name: {get_openai_model_name()}\")"
   ]
  },
  {
   "cell_type": "code",
   "execution_count": 2,
   "metadata": {},
   "outputs": [
    {
     "name": "stdout",
     "output_type": "stream",
     "text": [
      "\u001b[97m[\u001b[90m2024-12-23 14:39:11\u001b[97m]\u001b[90m Getting chat completion for...: [{'role': 'system', 'content': 'You are a helpful weather assistant. Greet the user by name (James).'}, {'role': 'user', 'content': \"What's the weather in NYC?\"}]\u001b[0m\n",
      "\u001b[97m[\u001b[90m2024-12-23 14:39:41\u001b[97m]\u001b[90m Received completion: ChatCompletionMessage(content='', refusal=None, role='assistant', audio=None, function_call=None, tool_calls=[ChatCompletionMessageToolCall(id='call_nkvotfsm', function=Function(arguments='{\"location\":\"NYC\"}', name='get_weather'), type='function'), ChatCompletionMessageToolCall(id='call_kdg805m6', function=Function(arguments='{\"location\":\"New York City\"}', name='get_weather'), type='function')])\u001b[0m\n",
      "\u001b[97m[\u001b[90m2024-12-23 14:39:41\u001b[97m]\u001b[90m Processing tool call: get_weather with arguments {'location': 'NYC'}\u001b[0m\n",
      "\u001b[97m[\u001b[90m2024-12-23 14:39:41\u001b[97m]\u001b[90m Processing tool call: get_weather with arguments {'location': 'New York City'}\u001b[0m\n",
      "\u001b[97m[\u001b[90m2024-12-23 14:39:41\u001b[97m]\u001b[90m Getting chat completion for...: [{'role': 'system', 'content': 'You are a helpful weather assistant. Greet the user by name (James).'}, {'role': 'user', 'content': \"What's the weather in NYC?\"}, {'content': '', 'refusal': None, 'role': 'assistant', 'audio': None, 'function_call': None, 'tool_calls': [{'id': 'call_nkvotfsm', 'function': {'arguments': '{\"location\":\"NYC\"}', 'name': 'get_weather'}, 'type': 'function'}, {'id': 'call_kdg805m6', 'function': {'arguments': '{\"location\":\"New York City\"}', 'name': 'get_weather'}, 'type': 'function'}], 'sender': 'Weather Agent'}, {'role': 'tool', 'tool_call_id': 'call_nkvotfsm', 'tool_name': 'get_weather', 'content': \"{'temp':67, 'unit':'F'}\"}, {'role': 'tool', 'tool_call_id': 'call_kdg805m6', 'tool_name': 'get_weather', 'content': \"{'temp':67, 'unit':'F'}\"}]\u001b[0m\n",
      "\u001b[97m[\u001b[90m2024-12-23 14:39:45\u001b[97m]\u001b[90m Received completion: ChatCompletionMessage(content='The current temperature in NYC is 67°F.', refusal=None, role='assistant', audio=None, function_call=None, tool_calls=None)\u001b[0m\n",
      "\u001b[97m[\u001b[90m2024-12-23 14:39:45\u001b[97m]\u001b[90m Ending turn.\u001b[0m\n",
      "The current temperature in NYC is 67°F.\n"
     ]
    }
   ],
   "source": [
    "# 创建一个Swarm对象\n",
    "from openai import OpenAI\n",
    "from swarm import Swarm, Agent\n",
    "\n",
    "# 实例化客户端\n",
    "swarm_client = Swarm(\n",
    "    client=OpenAI(api_key=get_openai_api_key(), base_url=get_openai_api_base())\n",
    ")\n",
    "\n",
    "\n",
    "def instructions(context_variables: dict):\n",
    "    name = context_variables.get(\"name\", \"User\")\n",
    "    return f\"You are a helpful weather assistant. Greet the user by name ({name}).\"\n",
    "\n",
    "\n",
    "def get_weather(location: str) -> str:\n",
    "    return \"{'temp':67, 'unit':'F'}\"\n",
    "\n",
    "\n",
    "weather_agent = Agent(\n",
    "    name=\"Weather Agent\",\n",
    "    model=get_openai_model_name(),\n",
    "    instructions=instructions,\n",
    "    functions=[get_weather],\n",
    ")\n",
    "\n",
    "context_variables = {\"name\": \"James\"}\n",
    "\n",
    "messages = [{\"role\": \"user\", \"content\": \"What's the weather in NYC?\"}]\n",
    "\n",
    "response = swarm_client.run(\n",
    "    messages=messages,\n",
    "    agent=weather_agent,\n",
    "    context_variables=context_variables,\n",
    "    debug=True,\n",
    ")\n",
    "\n",
    "print(response.messages[-1][\"content\"])"
   ]
  }
 ],
 "metadata": {
  "kernelspec": {
   "display_name": "learning-swarm",
   "language": "python",
   "name": "python3"
  },
  "language_info": {
   "codemirror_mode": {
    "name": "ipython",
    "version": 3
   },
   "file_extension": ".py",
   "mimetype": "text/x-python",
   "name": "python",
   "nbconvert_exporter": "python",
   "pygments_lexer": "ipython3",
   "version": "3.10.16"
  }
 },
 "nbformat": 4,
 "nbformat_minor": 2
}
